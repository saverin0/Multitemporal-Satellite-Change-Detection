{
 "cells": [
  {
   "cell_type": "code",
   "execution_count": 12,
   "id": "28c8d8a9",
   "metadata": {},
   "outputs": [
    {
     "data": {
      "text/html": [
       "\n",
       "            <style>\n",
       "                .geemap-dark {\n",
       "                    --jp-widgets-color: white;\n",
       "                    --jp-widgets-label-color: white;\n",
       "                    --jp-ui-font-color1: white;\n",
       "                    --jp-layout-color2: #454545;\n",
       "                    background-color: #383838;\n",
       "                }\n",
       "\n",
       "                .geemap-dark .jupyter-button {\n",
       "                    --jp-layout-color3: #383838;\n",
       "                }\n",
       "\n",
       "                .geemap-colab {\n",
       "                    background-color: var(--colab-primary-surface-color, white);\n",
       "                }\n",
       "\n",
       "                .geemap-colab .jupyter-button {\n",
       "                    --jp-layout-color3: var(--colab-primary-surface-color, white);\n",
       "                }\n",
       "            </style>\n",
       "            "
      ],
      "text/plain": [
       "<IPython.core.display.HTML object>"
      ]
     },
     "metadata": {},
     "output_type": "display_data"
    },
    {
     "name": "stdout",
     "output_type": "stream",
     "text": [
      "Image 1 found: True\n",
      "Image 2 found: True\n",
      "Export tasks started. Check your Google Drive in the 'EarthEngine' folder.\n"
     ]
    }
   ],
   "source": [
    "import ee\n",
    "import geemap\n",
    "\n",
    "# Initialize Earth Engine\n",
    "ee.Initialize()\n",
    "\n",
    "# Define your Area of Interest (AOI) - Example: part of Delhi\n",
    "aoi = ee.Geometry.Rectangle([77.5, 28.4, 77.7, 28.6])\n",
    "\n",
    "# Function to filter and select Sentinel-2 image\n",
    "def get_sentinel_image(date_start, date_end, max_cloud=20):\n",
    "    collection = (ee.ImageCollection(\"COPERNICUS/S2_SR\")\n",
    "                  .filterBounds(aoi)\n",
    "                  .filterDate(date_start, date_end)\n",
    "                  .filter(ee.Filter.lt('CLOUDY_PIXEL_PERCENTAGE', max_cloud))\n",
    "                  .sort('CLOUDY_PIXEL_PERCENTAGE'))\n",
    "    image = collection.first()\n",
    "    return image\n",
    "\n",
    "# Get images with adjusted parameters\n",
    "image1 = get_sentinel_image('2020-01-01', '2020-01-31')\n",
    "image2 = get_sentinel_image('2023-12-01', '2024-02-15')  # expanded range for 2024\n",
    "\n",
    "# Check if images were found\n",
    "print(\"Image 1 found:\", image1 is not None)\n",
    "print(\"Image 2 found:\", image2 is not None)\n",
    "\n",
    "# Select RGB + NIR bands\n",
    "bands = ['B4', 'B3', 'B2', 'B8']  # Red, Green, Blue, NIR\n",
    "image1 = image1.select(bands).clip(aoi)\n",
    "image2 = image2.select(bands).clip(aoi)\n",
    "\n",
    "# Export to Google Drive\n",
    "task1 = ee.batch.Export.image.toDrive(\n",
    "    image=image1,\n",
    "    description='Sentinel2_Image_2020',\n",
    "    folder='EarthEngine',\n",
    "    fileNamePrefix='sentinel2_2020',\n",
    "    region=aoi,\n",
    "    scale=10,\n",
    "    maxPixels=1e9\n",
    ")\n",
    "\n",
    "task2 = ee.batch.Export.image.toDrive(\n",
    "    image=image2,\n",
    "    description='Sentinel2_Image_2024',\n",
    "    folder='EarthEngine',\n",
    "    fileNamePrefix='sentinel2_2024',\n",
    "    region=aoi,\n",
    "    scale=10,\n",
    "    maxPixels=1e9\n",
    ")\n",
    "\n",
    "# Start tasks\n",
    "task1.start()\n",
    "task2.start()\n",
    "\n",
    "print(\"Export tasks started. Check your Google Drive in the 'EarthEngine' folder.\")"
   ]
  }
 ],
 "metadata": {
  "kernelspec": {
   "display_name": "venv",
   "language": "python",
   "name": "python3"
  },
  "language_info": {
   "codemirror_mode": {
    "name": "ipython",
    "version": 3
   },
   "file_extension": ".py",
   "mimetype": "text/x-python",
   "name": "python",
   "nbconvert_exporter": "python",
   "pygments_lexer": "ipython3",
   "version": "3.10.17"
  }
 },
 "nbformat": 4,
 "nbformat_minor": 5
}
