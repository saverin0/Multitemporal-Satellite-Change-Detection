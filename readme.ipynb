{
 "cells": [
  {
   "cell_type": "markdown",
   "id": "4e873ce7",
   "metadata": {},
   "source": [
    "<h1>🛰️ Project Title:\n",
    "Multitemporal Satellite Image Change Detection using Machine Learning and CNNs</h1>"
   ]
  },
  {
   "cell_type": "markdown",
   "id": "4a85df0e",
   "metadata": {},
   "source": [
    "<h2>Objective</h2>\n",
    "<p>The objective of this project is to detect and analyze land-cover or land-use changes over time using Sentinel-2 satellite imagery. By comparing satellite images of the same geographic region taken at different time points, we aim to identify regions of significant change, such as urban expansion, deforestation, or flooding.\n",
    "\n",
    "We use a combination of traditional machine learning models and deep learning techniques (CNNs) to build a change detection system that is robust, interpretable, and scalable.</p>\n",
    "\n"
   ]
  },
  {
   "cell_type": "markdown",
   "id": "a2970938",
   "metadata": {},
   "source": [
    "<h2>Problem Statement</h2>\n",
    "Monitoring land-use and environmental changes over large areas is challenging and resource-intensive. Manual inspection of satellite images is inefficient, especially when dealing with multi-year archives.\n",
    "\n",
    "Our goal is to build an automated system that can:<ul>\n",
    "  Input: Two satellite images of the same area at different times.</ul><ul>\n",
    "  Output: A map highlighting the areas where significant changes have occurred.</ul>\n",
    "\n",
    "This has real-world applications in urban planning, environmental conservation, disaster management, and climate change monitoring."
   ]
  },
  {
   "cell_type": "markdown",
   "id": "52f31813",
   "metadata": {},
   "source": [
    "<h2>Dataset Description</h2>\n",
    "<p>We use Sentinel-2 Level-2A satellite imagery accessed via AWS Open Data Registry and Google Earth Engine. Sentinel-2 provides high-resolution optical imagery in 13 spectral bands.</p>\n",
    "<br>\n",
    "<p>Source: AWS S3 + Google Earth Engine</p>\n",
    "\n",
    "Bands Used:<ul>\n",
    "\n",
    "<li>B4 (Red), B3 (Green), B2 (Blue) — for RGB</li>\n",
    "\n",
    "<li>B8 (NIR) — for NDVI and vegetation analysis</li></ul>\n",
    "\n",
    "<ul>Resolution: 10 meters</ul>\n",
    "\n",
    "<ul>Time Range: January 2020 vs January 2024\n",
    "</ul>\n",
    "Area of Interest (AOI): Custom selected region "
   ]
  },
  {
   "cell_type": "markdown",
   "id": "4d5c918c",
   "metadata": {},
   "source": [
    "graph TD<ul></ul>\n",
    "    <li>A[Data Collection (GEE/AWS)] --> B[Preprocessing (Cropping, Aligning, Cloud Mask)]</li>\n",
    "   <li> B --> C[Feature Extraction (NDVI, Differencing, Image Patches)]</li>\n",
    "    <li>C --> D[Traditional ML (SVM, RF, XGBoost)]</li>\n",
    "    <li>C --> E[Deep Learning (CNN-based Classifier)]</li>\n",
    "    <li>D --> F[Change Map Visualization]</li>\n",
    "    <li>E --> F</li>\n"
   ]
  },
  {
   "cell_type": "markdown",
   "id": "16b119b7",
   "metadata": {},
   "source": []
  }
 ],
 "metadata": {
  "kernelspec": {
   "display_name": "Python 3",
   "language": "python",
   "name": "python3"
  },
  "language_info": {
   "name": "python",
   "version": "3.12.1"
  }
 },
 "nbformat": 4,
 "nbformat_minor": 5
}
